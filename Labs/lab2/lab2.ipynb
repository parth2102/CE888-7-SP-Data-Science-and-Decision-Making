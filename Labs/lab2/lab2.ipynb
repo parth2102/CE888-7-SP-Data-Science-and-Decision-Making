{
  "nbformat": 4,
  "nbformat_minor": 0,
  "metadata": {
    "colab": {
      "name": "lab2.ipynb",
      "provenance": []
    },
    "kernelspec": {
      "display_name": "Python 3",
      "language": "python",
      "name": "python3"
    },
    "language_info": {
      "codemirror_mode": {
        "name": "ipython",
        "version": 3
      },
      "file_extension": ".py",
      "mimetype": "text/x-python",
      "name": "python",
      "nbconvert_exporter": "python",
      "pygments_lexer": "ipython3",
      "version": "3.7.6"
    },
    "pycharm": {
      "stem_cell": {
        "cell_type": "raw",
        "metadata": {
          "collapsed": false
        },
        "source": []
      }
    }
  },
  "cells": [
    {
      "cell_type": "markdown",
      "metadata": {
        "id": "nCi_99yMYIb1"
      },
      "source": [
        "In this notebook you'll create your own bootstrap function following the bootstrap algorithm (check the lecture notes!)"
      ]
    },
    {
      "cell_type": "code",
      "metadata": {
        "id": "LY5zujI2YC37",
        "pycharm": {
          "name": "#%%# Imports\n"
        }
      },
      "source": [
        "import matplotlib\n",
        "import pandas as pd\n",
        "import seaborn as sns\n",
        "import numpy as np"
      ],
      "execution_count": 1,
      "outputs": []
    },
    {
      "cell_type": "code",
      "metadata": {
        "id": "Eqkwj4SMY38t"
      },
      "source": [
        "# Load the data\n",
        "df = pd.read_csv('https://raw.githubusercontent.com/albanda/CE888/master/lab2%20-%20bootstrap/customers.csv')\n",
        "data = df.values.T[1]"
      ],
      "execution_count": 2,
      "outputs": []
    },
    {
      "cell_type": "code",
      "metadata": {
        "id": "Gxvc_bScYC4H",
        "pycharm": {
          "name": "#%%\n"
        }
      },
      "source": [
        "# Checking the notes from the lecture, create here your own bootstrap function:\n",
        "# 1. Sample from the input array x to create an array of samples of shape (n_bootstraps, sample_size)\n",
        "# Hint: Check the function random.choice() on Numpy\n",
        "# 2. Calculate and save the mean of the array (this is \"data_mean\" that is returned by the function)\n",
        "# 3. Calculate the mean from each bootstrap (i.e., row) and store it.\n",
        "# (This should be an array of n_bootstraps values)\n",
        "# 4. Calculate the lower and upper bounds for a 95% CI (hint: check the percentile function on Numpy)\n",
        "# 5. Return data_mean, and the lower and upper bounds of your interval\n",
        "def bootstrap_mean(x, sample_size, n_bootstraps):\n",
        "\tlists = []\n",
        "\tmeandata = []\n",
        "\tfor i in range(n_bootstraps):\n",
        "\t\tlists.append(np.random.choice(x, sample_size, True))\n",
        "\tfor sample_set in lists:\n",
        "\t\tmeandata.append(np.mean(sample_set))\n",
        "\tmeandata.sort()\n",
        "\tdata_mean = np.mean(meandata)\n",
        "\tlower = np.percentile(meandata, 2.5)\n",
        "\tupper = np.percentile(meandata, 97.5)\n",
        " # <---INSERT YOUR CODE HERE--->\n",
        "\treturn data_mean, lower, upper\n"
      ],
      "execution_count": 3,
      "outputs": []
    },
    {
      "cell_type": "code",
      "metadata": {
        "id": "AN7sEOcMYC4P",
        "pycharm": {
          "name": "#%%\n"
        },
        "outputId": "ffc86d12-9949-47f9-8da8-ed98ecc1bb4c",
        "colab": {
          "base_uri": "https://localhost:8080/",
          "height": 441
        }
      },
      "source": [
        "# Call your bootstrap function and plot the results\n",
        "boots = []\n",
        "for i in range(100, 50000, 1000):\n",
        "    boot = bootstrap_mean(data, data.shape[0], i)\n",
        "    boots.append([i, boot[0], \"mean\"])\n",
        "    boots.append([i, boot[1], \"lower\"])\n",
        "    boots.append([i, boot[2], \"upper\"])\n",
        "\n",
        "df_boot = pd.DataFrame(boots, columns=['Bootstrap Iterations', 'Mean', \"Value\"])\n",
        "sns_plot = sns.lmplot(df_boot.columns[0], df_boot.columns[1], data=df_boot, fit_reg=False, hue=\"Value\")\n",
        "\n",
        "sns_plot.axes[0, 0].set_ylim(0,15)\n",
        "sns_plot.axes[0, 0].set_xlim(0, 100000)\n"
      ],
      "execution_count": 4,
      "outputs": [
        {
          "output_type": "stream",
          "name": "stderr",
          "text": [
            "/usr/local/lib/python3.7/dist-packages/seaborn/_decorators.py:43: FutureWarning: Pass the following variables as keyword args: x, y. From version 0.12, the only valid positional argument will be `data`, and passing other arguments without an explicit keyword will result in an error or misinterpretation.\n",
            "  FutureWarning\n"
          ]
        },
        {
          "output_type": "execute_result",
          "data": {
            "text/plain": [
              "(0.0, 100000.0)"
            ]
          },
          "metadata": {},
          "execution_count": 4
        },
        {
          "output_type": "display_data",
          "data": {
            "text/plain": [
              "<Figure size 425.125x360 with 1 Axes>"
            ],
            "image/png": "[encoded data removed]"
          },
          "metadata": {
            "needs_background": "light"
          }
        }
      ]
    },
    {
      "cell_type": "markdown",
      "metadata": {
        "id": "MjtP4e2_YC4V"
      },
      "source": [
        "\n",
        "Now, modify the bootstrap function you created above so that you can pass your desired confidence interval as a parameter.\n",
        "\n"
      ]
    },
    {
      "cell_type": "code",
      "metadata": {
        "id": "3K9j0FuGYhHs"
      },
      "source": [
        "def bootstrap_stdev_ci(sample, sample_size, n_bootstraps, ci):\n",
        "  lists = []\n",
        "  std_data1 = []\n",
        "  for i in range(n_bootstraps):\n",
        "    lists.append(np.random.choice(sample, sample_size, True))\n",
        "  for sample_set in lists:\n",
        "    std_data1.append(np.std(sample_set))\n",
        "  std_data1.sort()\n",
        "  data_std = np.std(std_data1)\n",
        "  lower = np.percentile(std_data1, (100-ci)/2)\n",
        "  upper = np.percentile(std_data1, 100-((100-ci)/2))\n",
        "  return data_std, lower, upper\n",
        "\n",
        "\n",
        "def bootstrap_mean_ci(sample, sample_size, n_bootstraps, ci):\n",
        "\tlists = []\n",
        "\tmean_data1 = []\n",
        "\tfor i in range(n_bootstraps):\n",
        "\t\tlists.append(np.random.choice(sample, sample_size, True))\n",
        "\tfor sample in lists:\n",
        "\t\tmean_data1.append(np.std(sample))\n",
        "\tmean_data1.sort()\n",
        "\tdata_mean = np.std(mean_data1)\n",
        "\tlower = np.percentile(mean_data1, (100-ci)/2)\n",
        "\tupper = np.percentile(mean_data1, 100-((100-ci)/2))\n",
        "\t# <---INSERT YOUR CODE HERE--->\n",
        "\treturn data_mean, lower, upper"
      ],
      "execution_count": 5,
      "outputs": []
    },
    {
      "cell_type": "code",
      "metadata": {
        "id": "uDnjq08GYl-C",
        "outputId": "9c778a28-f447-435f-c343-a1d62c7df204",
        "colab": {
          "base_uri": "https://localhost:8080/",
          "height": 441
        }
      },
      "source": [
        "boots = []\n",
        "for i in range(100, 50000, 1000):\n",
        "    boot = bootstrap_mean_ci(data, data.shape[0], i, 80)\n",
        "    boots.append([i, boot[0], \"mean\"])\n",
        "    boots.append([i, boot[1], \"lower\"])\n",
        "    boots.append([i, boot[2], \"upper\"])\n",
        "\n",
        "df_boot = pd.DataFrame(boots, columns=['Boostrap Iterations', 'Mean', \"Value\"])\n",
        "sns_plot = sns.lmplot(df_boot.columns[0], df_boot.columns[1], data=df_boot, fit_reg=False, hue=\"Value\")\n",
        "\n",
        "sns_plot.axes[0, 0].set_ylim(0, 15)\n",
        "sns_plot.axes[0, 0].set_xlim(0, 100000)\n",
        "\n",
        "#sns_plot.savefig(\"bootstrap_confidence_80.pdf\", bbox_inches='tight')\n"
      ],
      "execution_count": 6,
      "outputs": [
        {
          "output_type": "stream",
          "name": "stderr",
          "text": [
            "/usr/local/lib/python3.7/dist-packages/seaborn/_decorators.py:43: FutureWarning: Pass the following variables as keyword args: x, y. From version 0.12, the only valid positional argument will be `data`, and passing other arguments without an explicit keyword will result in an error or misinterpretation.\n",
            "  FutureWarning\n"
          ]
        },
        {
          "output_type": "execute_result",
          "data": {
            "text/plain": [
              "(0.0, 100000.0)"
            ]
          },
          "metadata": {},
          "execution_count": 6
        },
        {
          "output_type": "display_data",
          "data": {
            "text/plain": [
              "<Figure size 425.125x360 with 1 Axes>"
            ],
            "image/png": "[encoded data removed]"
          },
          "metadata": {
            "needs_background": "light"
          }
        }
      ]
    },
    {
      "cell_type": "code",
      "source": [
        "data_mean, lower, upper = bootstrap_mean_ci(data, data.shape[0], 10000, 90)\n",
        "print('lower =',lower)\n",
        "print('upper =',upper)\n",
        "\n",
        "data_mean, lower, upper = bootstrap_mean_ci(data, data.shape[0], 10000, 80)\n",
        "print('lower =',lower)\n",
        "print('upper =',upper)\n",
        "\n",
        "data_std, lower, upper = bootstrap_stdev_ci(data, data.shape[0], 10000, 85)\n",
        "print('lower =',lower)\n",
        "print('upper =',upper)\n",
        "\n",
        "data_std, lower, upper = bootstrap_stdev_ci(data, data.shape[0], 10000, 99)\n",
        "print('lower =',lower)\n",
        "print('upper =',upper)"
      ],
      "metadata": {
        "colab": {
          "base_uri": "https://localhost:8080/"
        },
        "id": "mStmj8XU88U7",
        "outputId": "bd4e1bac-bbb7-46d1-cff7-be2197a64726"
      },
      "execution_count": 9,
      "outputs": [
        {
          "output_type": "stream",
          "name": "stdout",
          "text": [
            "lower = 3.043770772547368\n",
            "upper = 7.149996432138399\n",
            "lower = 3.6146668285883847\n",
            "upper = 6.782518020778474\n",
            "lower = 3.320468371191274\n",
            "upper = 6.956497476665764\n",
            "lower = 2.1957693536676266\n",
            "upper = 7.910237802712791\n"
          ]
        }
      ]
    },
    {
      "cell_type": "markdown",
      "metadata": {
        "id": "qjNgXW6wdd7r"
      },
      "source": [
        "# Vehicles dataset\n",
        "\n",
        "Now let's work on a different dataset, which is stored in the vehicles.csv file.\n"
      ]
    },
    {
      "cell_type": "code",
      "metadata": {
        "id": "avWv4ipFdpka"
      },
      "source": [
        "# Load and visualise the vehicles dataset\n",
        "# To load the dataset: https://neptune.ai/blog/google-colab-dealing-with-files (check section \"Load individual files directly from GitHub\")\n",
        "\n",
        "\n",
        "# Note that the current and new fleets are in different columns and have different lengths, so bear this in mind when you're plotting.\n",
        "# You can create separate scatterplots for the two fleets, as you would with the histograms, \n",
        "# or plot them both in one plot (but not one against the other).\n",
        "# <---INSERT YOUR CODE HERE--->\n",
        "df = pd.read_csv('https://raw.githubusercontent.com/albanda/CE888/master/lab2%20-%20bootstrap/vehicles.csv')\n",
        "\n",
        "current = df.values.T[0][np.logical_not(np.isnan(df.values.T[0]))]\n",
        "new = df.values.T[1][np.logical_not(np.isnan(df.values.T[1]))]\n",
        "# Note: you can add more cells as needed to organise your code and your plots\n"
      ],
      "execution_count": 7,
      "outputs": []
    },
    {
      "cell_type": "markdown",
      "metadata": {
        "id": "B5d0tXDpIEj8"
      },
      "source": [
        "## Compare the two fleets\n",
        "\n",
        "The business analysts come up a comparison algorithm that requires the upper and lower bounds for the mean in order to say which fleet is better.\n",
        "1. Calculate the mean of both samples.\n",
        "2. Using the bootstrap function that you created:\n",
        "    - Construct the 95% CI of the mean of the current fleet.\n",
        "    - Construct the 95% CI of the mean of the new fleet.\n",
        "    - Are they comparable? (i.e., is one better than the other?) -- you can do this with a permutation test (check the lecture notes!)"
      ]
    },
    {
      "cell_type": "code",
      "metadata": {
        "id": "po4mp6zRHC0m",
        "outputId": "6d4ac6c6-5d70-4564-e8e7-cd724bc228de",
        "colab": {
          "base_uri": "https://localhost:8080/",
          "height": 832
        }
      },
      "source": [
        "# <---INSERT YOUR CODE HERE--->\n",
        "boot_current = []\n",
        "for i in range(100, 50000, 1000):\n",
        "    cboot = bootstrap_mean_ci(current, data.shape[0], i, 95)\n",
        "    boot_current.append([i, cboot[0], \"mean\"])\n",
        "    boot_current.append([i, cboot[1], \"lower\"])\n",
        "    boot_current.append([i, cboot[2], \"upper\"])\n",
        "df_boot_c = pd.DataFrame(boot_current, columns=['Boostrap Iterations', 'Mean', \"Value\"])\n",
        "sns_plot_c = sns.lmplot(df_boot_c.columns[0], df_boot_c.columns[1], data=df_boot_c, fit_reg=False, hue=\"Value\")\n",
        "\n",
        "sns_plot_c.axes[0, 0].set_ylim(0,25)\n",
        "sns_plot_c.axes[0, 0].set_xlim(0, 100000)\n",
        "\n",
        "boot_new = []\n",
        "for j in range(100, 50000, 1000):\n",
        "    nboot = bootstrap_mean_ci(new, data.shape[0], j, 95)\n",
        "    boot_new.append([j, nboot[0], \"mean\"])\n",
        "    boot_new.append([j, nboot[1], \"lower\"])\n",
        "    boot_new.append([j, nboot[2], \"upper\"])\n",
        "\n",
        "df_boot_n = pd.DataFrame(boot_new, columns=['Boostrap Iterations', 'Mean', \"Value\"])\n",
        "sns_plot_n = sns.lmplot(df_boot_n.columns[0], df_boot_n.columns[1], data=df_boot_n, fit_reg=False, hue=\"Value\")\n",
        "\n",
        "sns_plot_n.axes[0, 0].set_ylim(0,)\n",
        "sns_plot_n.axes[0, 0].set_xlim(0, 100000)"
      ],
      "execution_count": 8,
      "outputs": [
        {
          "output_type": "stream",
          "name": "stderr",
          "text": [
            "/usr/local/lib/python3.7/dist-packages/seaborn/_decorators.py:43: FutureWarning: Pass the following variables as keyword args: x, y. From version 0.12, the only valid positional argument will be `data`, and passing other arguments without an explicit keyword will result in an error or misinterpretation.\n",
            "  FutureWarning\n",
            "/usr/local/lib/python3.7/dist-packages/seaborn/_decorators.py:43: FutureWarning: Pass the following variables as keyword args: x, y. From version 0.12, the only valid positional argument will be `data`, and passing other arguments without an explicit keyword will result in an error or misinterpretation.\n",
            "  FutureWarning\n"
          ]
        },
        {
          "output_type": "execute_result",
          "data": {
            "text/plain": [
              "(0.0, 100000.0)"
            ]
          },
          "metadata": {},
          "execution_count": 8
        },
        {
          "output_type": "display_data",
          "data": {
            "text/plain": [
              "<Figure size 425.125x360 with 1 Axes>"
            ],
            "image/png": "[encoded data removed]"
          },
          "metadata": {
            "needs_background": "light"
          }
        },
        {
          "output_type": "display_data",
          "data": {
            "text/plain": [
              "<Figure size 425.125x360 with 1 Axes>"
            ],
            "image/png": "[encoded data removed]"
          },
          "metadata": {
            "needs_background": "light"
          }
        }
      ]
    },
    {
      "cell_type": "code",
      "metadata": {
        "id": "MkxvDZG4HC0n"
      },
      "source": [
        "# Create your own function for a permutation test here (you will need it for the lab quiz!):\n",
        "def permut_test(sample1, sample2, n_permutations):\n",
        "    \"\"\"\n",
        "    sample1: 1D array\n",
        "    sample2: 1D array (note that the size of the two arrays can be different)\n",
        "    n_permutations: number of permutations to calculate the p-value\n",
        "    \"\"\"\n",
        "    concat = np.concatenate((sample1, sample2))\n",
        "    mean_o, mean_n = np.mean(sample1),np.mean(sample2)\n",
        "    t_obs = mean_n - mean_o\n",
        "    ctr = 0\n",
        "    for i in range(n_permutations):\n",
        "      perm = np.random.permutation(concat)\n",
        "      po = perm[:len(sample1)]\n",
        "      pn = perm[len(sample1):]\n",
        "      mean_po, mean_pn = np.mean(po), np.mean(pn)\n",
        "      t_perm = mean_pn - mean_po\n",
        "      if t_perm > t_obs:\n",
        "        ctr += 1\n",
        "    pvalue = ctr / n_permutations\n",
        "    return pvalue"
      ],
      "execution_count": 11,
      "outputs": []
    },
    {
      "cell_type": "code",
      "source": [
        "print(permut_test(current,new,30000))\n",
        "\n",
        "print(bootstrap_stdev_ci(new, len(new), 10000, 73))\n",
        "print(bootstrap_mean_ci(new, new.shape[0], 10000, 80))\n",
        "print(bootstrap_mean_ci(data, data.shape[0], 10000, 95))\n",
        "print(bootstrap_stdev_ci(current, len(current), 10000, 95))"
      ],
      "metadata": {
        "id": "4LLo9DsDV7aJ",
        "outputId": "93153a44-d626-4e4d-c8b1-5a2f599db477",
        "colab": {
          "base_uri": "https://localhost:8080/"
        }
      },
      "execution_count": 12,
      "outputs": [
        {
          "output_type": "stream",
          "name": "stdout",
          "text": [
            "0.0\n",
            "(0.45966556825399707, 5.5204781047865525, 6.538617365893246)\n",
            "(0.45190477686859803, 5.437872143745383, 6.59794629930273)\n",
            "(1.205097085710974, 2.7103588061076733, 7.398738143329668)\n",
            "(0.290790437057667, 5.819540474798165, 6.945083913815341)\n"
          ]
        }
      ]
    },
    {
      "cell_type": "code",
      "source": [
        "dem_share_PA = [60.08, 40.64, 36.07, 41.21, 31.04, 43.78, 44.08, 46.85, 44.71, 46.15, 63.10, 52.20, 43.18, 40.24, 39.92, 47.87, 37.77, 40.11, 49.85, 48.61, 38.62, 54.25, 34.84, 47.75, 43.82, 55.97, 58.23, 42.97, 42.38, 36.11, 37.53, 42.65, 50.96, 47.43, 56.24, 45.60, 46.39, 35.22, 48.56, 32.97, 57.88, 36.05, 37.72, 50.36, 32.12, 41.55, 54.66, 57.81, 54.58, 32.88, 54.37, 40.45, 47.61, 60.49, 43.11, 27.32, 44.03, 33.56, 37.26, 54.64, 43.12, 25.34, 49.79, 83.56, 40.09, 60.81, 49.81]\n",
        "dem_share_OH = [56.94, 50.46, 65.99, 45.88, 42.23, 45.26, 57.01, 53.61, 59.10, 61.48, 43.43, 44.69, 54.59, 48.36, 45.89, 48.62, 43.92, 38.23, 28.79, 63.57, 38.07, 40.18, 43.05, 41.56, 42.49, 36.06, 52.76, 46.07, 39.43, 39.26, 47.47, 27.92, 38.01, 45.45, 29.07, 28.94, 51.28, 50.10, 39.84, 36.43, 35.71, 31.47, 47.01, 40.10, 48.76, 31.56, 39.86, 45.31, 35.47, 51.38, 46.33, 48.73, 41.77, 41.32, 48.46, 53.14, 34.01, 54.74, 40.67, 38.96, 46.29, 38.25, 6.80, 31.75, 46.33, 44.90, 33.57, 38.10, 39.67, 40.47, 49.44, 37.62, 36.71, 46.73, 42.20, 53.16, 52.40, 58.36, 68.02, 38.53, 34.58, 69.64, 60.50, 53.53, 36.54, 49.58, 41.97, 38.11]\n",
        "\n",
        "print(len(dem_share_OH))\n",
        "print(len(dem_share_PA))\n",
        " \n",
        "print(bootstrap_mean_ci(dem_share_PA, len(dem_share_PA), 25000, 90))\n",
        "print(bootstrap_mean_ci(dem_share_OH, len(dem_share_OH), 25000, 90))\n",
        "\n",
        "print('p_value = ',permut_test(dem_share_OH,dem_share_PA,20000))"
      ],
      "metadata": {
        "id": "xW6wT0QFY3ZF",
        "outputId": "426707af-fcf0-4a76-e95a-37c319684a38",
        "colab": {
          "base_uri": "https://localhost:8080/"
        }
      },
      "execution_count": 13,
      "outputs": [
        {
          "output_type": "stream",
          "name": "stdout",
          "text": [
            "88\n",
            "67\n",
            "(1.1671801288192998, 7.825365858522503, 11.627339895370902)\n",
            "(0.9865224884255013, 8.157692737251708, 11.397315797477411)\n",
            "p_value =  0.23705\n"
          ]
        }
      ]
    }
  ]
}