{
  "cells": [
    {
      "cell_type": "markdown",
      "id": "da023b5c",
      "metadata": {
        "id": "da023b5c"
      },
      "source": [
        "# Part 1: data cleaning and pre-processing "
      ]
    },
    {
      "cell_type": "markdown",
      "id": "a5a8ed19",
      "metadata": {
        "id": "a5a8ed19"
      },
      "source": [
        "## Importing libraries "
      ]
    },
    {
      "cell_type": "code",
      "execution_count": null,
      "id": "37a71a35",
      "metadata": {
        "id": "37a71a35"
      },
      "outputs": [],
      "source": [
        "import pandas as pd\n",
        "import numpy as np\n",
        "import matplotlib\n",
        "import matplotlib.pyplot as plt"
      ]
    },
    {
      "cell_type": "markdown",
      "id": "1b3cef43",
      "metadata": {
        "id": "1b3cef43"
      },
      "source": [
        "# Importing dataset"
      ]
    },
    {
      "cell_type": "code",
      "execution_count": null,
      "id": "cba1d5d3",
      "metadata": {
        "id": "cba1d5d3"
      },
      "outputs": [],
      "source": [
        "df=pd.read_csv('C:/cars-data.csv')"
      ]
    },
    {
      "cell_type": "code",
      "execution_count": null,
      "id": "fc7a336f",
      "metadata": {
        "id": "fc7a336f",
        "outputId": "fc2957a4-ad2d-4a27-a0e7-630cb556f768"
      },
      "outputs": [
        {
          "data": {
            "text/html": [
              "<div>\n",
              "<style scoped>\n",
              "    .dataframe tbody tr th:only-of-type {\n",
              "        vertical-align: middle;\n",
              "    }\n",
              "\n",
              "    .dataframe tbody tr th {\n",
              "        vertical-align: top;\n",
              "    }\n",
              "\n",
              "    .dataframe thead th {\n",
              "        text-align: right;\n",
              "    }\n",
              "</style>\n",
              "<table border=\"1\" class=\"dataframe\">\n",
              "  <thead>\n",
              "    <tr style=\"text-align: right;\">\n",
              "      <th></th>\n",
              "      <th>Id</th>\n",
              "      <th>MPG</th>\n",
              "      <th>Cylinders</th>\n",
              "      <th>Edispl</th>\n",
              "      <th>Horsepower</th>\n",
              "      <th>Weight</th>\n",
              "      <th>Accelerate</th>\n",
              "      <th>Year</th>\n",
              "    </tr>\n",
              "  </thead>\n",
              "  <tbody>\n",
              "    <tr>\n",
              "      <th>0</th>\n",
              "      <td>1</td>\n",
              "      <td>18.0</td>\n",
              "      <td>8</td>\n",
              "      <td>307.0</td>\n",
              "      <td>130.0</td>\n",
              "      <td>3504</td>\n",
              "      <td>12.0</td>\n",
              "      <td>1970</td>\n",
              "    </tr>\n",
              "    <tr>\n",
              "      <th>1</th>\n",
              "      <td>2</td>\n",
              "      <td>15.0</td>\n",
              "      <td>8</td>\n",
              "      <td>350.0</td>\n",
              "      <td>165.0</td>\n",
              "      <td>3693</td>\n",
              "      <td>11.5</td>\n",
              "      <td>1970</td>\n",
              "    </tr>\n",
              "    <tr>\n",
              "      <th>2</th>\n",
              "      <td>3</td>\n",
              "      <td>18.0</td>\n",
              "      <td>8</td>\n",
              "      <td>318.0</td>\n",
              "      <td>150.0</td>\n",
              "      <td>3436</td>\n",
              "      <td>11.0</td>\n",
              "      <td>1970</td>\n",
              "    </tr>\n",
              "    <tr>\n",
              "      <th>3</th>\n",
              "      <td>4</td>\n",
              "      <td>16.0</td>\n",
              "      <td>8</td>\n",
              "      <td>304.0</td>\n",
              "      <td>150.0</td>\n",
              "      <td>3433</td>\n",
              "      <td>12.0</td>\n",
              "      <td>1970</td>\n",
              "    </tr>\n",
              "    <tr>\n",
              "      <th>4</th>\n",
              "      <td>5</td>\n",
              "      <td>17.0</td>\n",
              "      <td>8</td>\n",
              "      <td>302.0</td>\n",
              "      <td>140.0</td>\n",
              "      <td>3449</td>\n",
              "      <td>10.5</td>\n",
              "      <td>1970</td>\n",
              "    </tr>\n",
              "    <tr>\n",
              "      <th>...</th>\n",
              "      <td>...</td>\n",
              "      <td>...</td>\n",
              "      <td>...</td>\n",
              "      <td>...</td>\n",
              "      <td>...</td>\n",
              "      <td>...</td>\n",
              "      <td>...</td>\n",
              "      <td>...</td>\n",
              "    </tr>\n",
              "    <tr>\n",
              "      <th>401</th>\n",
              "      <td>402</td>\n",
              "      <td>27.0</td>\n",
              "      <td>4</td>\n",
              "      <td>140.0</td>\n",
              "      <td>86.0</td>\n",
              "      <td>2790</td>\n",
              "      <td>15.6</td>\n",
              "      <td>1982</td>\n",
              "    </tr>\n",
              "    <tr>\n",
              "      <th>402</th>\n",
              "      <td>403</td>\n",
              "      <td>44.0</td>\n",
              "      <td>4</td>\n",
              "      <td>97.0</td>\n",
              "      <td>52.0</td>\n",
              "      <td>2130</td>\n",
              "      <td>24.6</td>\n",
              "      <td>1982</td>\n",
              "    </tr>\n",
              "    <tr>\n",
              "      <th>403</th>\n",
              "      <td>404</td>\n",
              "      <td>32.0</td>\n",
              "      <td>4</td>\n",
              "      <td>135.0</td>\n",
              "      <td>84.0</td>\n",
              "      <td>2295</td>\n",
              "      <td>11.6</td>\n",
              "      <td>1982</td>\n",
              "    </tr>\n",
              "    <tr>\n",
              "      <th>404</th>\n",
              "      <td>405</td>\n",
              "      <td>28.0</td>\n",
              "      <td>4</td>\n",
              "      <td>120.0</td>\n",
              "      <td>79.0</td>\n",
              "      <td>2625</td>\n",
              "      <td>18.6</td>\n",
              "      <td>1982</td>\n",
              "    </tr>\n",
              "    <tr>\n",
              "      <th>405</th>\n",
              "      <td>406</td>\n",
              "      <td>31.0</td>\n",
              "      <td>4</td>\n",
              "      <td>119.0</td>\n",
              "      <td>82.0</td>\n",
              "      <td>2720</td>\n",
              "      <td>19.4</td>\n",
              "      <td>1982</td>\n",
              "    </tr>\n",
              "  </tbody>\n",
              "</table>\n",
              "<p>406 rows × 8 columns</p>\n",
              "</div>"
            ],
            "text/plain": [
              "      Id   MPG  Cylinders  Edispl  Horsepower  Weight  Accelerate  Year\n",
              "0      1  18.0          8   307.0       130.0    3504        12.0  1970\n",
              "1      2  15.0          8   350.0       165.0    3693        11.5  1970\n",
              "2      3  18.0          8   318.0       150.0    3436        11.0  1970\n",
              "3      4  16.0          8   304.0       150.0    3433        12.0  1970\n",
              "4      5  17.0          8   302.0       140.0    3449        10.5  1970\n",
              "..   ...   ...        ...     ...         ...     ...         ...   ...\n",
              "401  402  27.0          4   140.0        86.0    2790        15.6  1982\n",
              "402  403  44.0          4    97.0        52.0    2130        24.6  1982\n",
              "403  404  32.0          4   135.0        84.0    2295        11.6  1982\n",
              "404  405  28.0          4   120.0        79.0    2625        18.6  1982\n",
              "405  406  31.0          4   119.0        82.0    2720        19.4  1982\n",
              "\n",
              "[406 rows x 8 columns]"
            ]
          },
          "execution_count": 7,
          "metadata": {},
          "output_type": "execute_result"
        }
      ],
      "source": [
        "df"
      ]
    },
    {
      "cell_type": "code",
      "execution_count": null,
      "id": "f2b7c77e",
      "metadata": {
        "id": "f2b7c77e",
        "outputId": "db9a1d2e-46c0-4499-8752-4b1947880db0"
      },
      "outputs": [
        {
          "data": {
            "text/html": [
              "<div>\n",
              "<style scoped>\n",
              "    .dataframe tbody tr th:only-of-type {\n",
              "        vertical-align: middle;\n",
              "    }\n",
              "\n",
              "    .dataframe tbody tr th {\n",
              "        vertical-align: top;\n",
              "    }\n",
              "\n",
              "    .dataframe thead th {\n",
              "        text-align: right;\n",
              "    }\n",
              "</style>\n",
              "<table border=\"1\" class=\"dataframe\">\n",
              "  <thead>\n",
              "    <tr style=\"text-align: right;\">\n",
              "      <th></th>\n",
              "      <th>Id</th>\n",
              "      <th>MPG</th>\n",
              "      <th>Cylinders</th>\n",
              "      <th>Edispl</th>\n",
              "      <th>Horsepower</th>\n",
              "      <th>Weight</th>\n",
              "      <th>Accelerate</th>\n",
              "      <th>Year</th>\n",
              "    </tr>\n",
              "  </thead>\n",
              "  <tbody>\n",
              "    <tr>\n",
              "      <th>0</th>\n",
              "      <td>1</td>\n",
              "      <td>18.0</td>\n",
              "      <td>8</td>\n",
              "      <td>307.0</td>\n",
              "      <td>130.0</td>\n",
              "      <td>3504</td>\n",
              "      <td>12.0</td>\n",
              "      <td>1970</td>\n",
              "    </tr>\n",
              "    <tr>\n",
              "      <th>1</th>\n",
              "      <td>2</td>\n",
              "      <td>15.0</td>\n",
              "      <td>8</td>\n",
              "      <td>350.0</td>\n",
              "      <td>165.0</td>\n",
              "      <td>3693</td>\n",
              "      <td>11.5</td>\n",
              "      <td>1970</td>\n",
              "    </tr>\n",
              "    <tr>\n",
              "      <th>2</th>\n",
              "      <td>3</td>\n",
              "      <td>18.0</td>\n",
              "      <td>8</td>\n",
              "      <td>318.0</td>\n",
              "      <td>150.0</td>\n",
              "      <td>3436</td>\n",
              "      <td>11.0</td>\n",
              "      <td>1970</td>\n",
              "    </tr>\n",
              "    <tr>\n",
              "      <th>3</th>\n",
              "      <td>4</td>\n",
              "      <td>16.0</td>\n",
              "      <td>8</td>\n",
              "      <td>304.0</td>\n",
              "      <td>150.0</td>\n",
              "      <td>3433</td>\n",
              "      <td>12.0</td>\n",
              "      <td>1970</td>\n",
              "    </tr>\n",
              "    <tr>\n",
              "      <th>4</th>\n",
              "      <td>5</td>\n",
              "      <td>17.0</td>\n",
              "      <td>8</td>\n",
              "      <td>302.0</td>\n",
              "      <td>140.0</td>\n",
              "      <td>3449</td>\n",
              "      <td>10.5</td>\n",
              "      <td>1970</td>\n",
              "    </tr>\n",
              "  </tbody>\n",
              "</table>\n",
              "</div>"
            ],
            "text/plain": [
              "   Id   MPG  Cylinders  Edispl  Horsepower  Weight  Accelerate  Year\n",
              "0   1  18.0          8   307.0       130.0    3504        12.0  1970\n",
              "1   2  15.0          8   350.0       165.0    3693        11.5  1970\n",
              "2   3  18.0          8   318.0       150.0    3436        11.0  1970\n",
              "3   4  16.0          8   304.0       150.0    3433        12.0  1970\n",
              "4   5  17.0          8   302.0       140.0    3449        10.5  1970"
            ]
          },
          "execution_count": 8,
          "metadata": {},
          "output_type": "execute_result"
        }
      ],
      "source": [
        "df.head()"
      ]
    },
    {
      "cell_type": "code",
      "execution_count": null,
      "id": "36cbb3a7",
      "metadata": {
        "id": "36cbb3a7",
        "outputId": "783eb866-7edb-4eb8-aa81-62cae15c0f7d"
      },
      "outputs": [
        {
          "name": "stdout",
          "output_type": "stream",
          "text": [
            "<class 'pandas.core.frame.DataFrame'>\n",
            "RangeIndex: 406 entries, 0 to 405\n",
            "Data columns (total 8 columns):\n",
            " #   Column      Non-Null Count  Dtype  \n",
            "---  ------      --------------  -----  \n",
            " 0   Id          406 non-null    int64  \n",
            " 1   MPG         398 non-null    float64\n",
            " 2   Cylinders   406 non-null    int64  \n",
            " 3   Edispl      406 non-null    float64\n",
            " 4   Horsepower  400 non-null    float64\n",
            " 5   Weight      406 non-null    int64  \n",
            " 6   Accelerate  406 non-null    float64\n",
            " 7   Year        406 non-null    int64  \n",
            "dtypes: float64(4), int64(4)\n",
            "memory usage: 25.5 KB\n"
          ]
        }
      ],
      "source": [
        "df.info()"
      ]
    },
    {
      "cell_type": "markdown",
      "id": "5ef40eab",
      "metadata": {
        "id": "5ef40eab"
      },
      "source": [
        "## NULL value checking "
      ]
    },
    {
      "cell_type": "code",
      "execution_count": null,
      "id": "8a2bc682",
      "metadata": {
        "id": "8a2bc682",
        "outputId": "723a8da3-20e6-4b21-a4b7-11a565d17c09"
      },
      "outputs": [
        {
          "data": {
            "text/plain": [
              "Id            0\n",
              "MPG           8\n",
              "Cylinders     0\n",
              "Edispl        0\n",
              "Horsepower    6\n",
              "Weight        0\n",
              "Accelerate    0\n",
              "Year          0\n",
              "dtype: int64"
            ]
          },
          "execution_count": 10,
          "metadata": {},
          "output_type": "execute_result"
        }
      ],
      "source": [
        "df.isna().sum()"
      ]
    },
    {
      "cell_type": "markdown",
      "id": "6e2e3ad1",
      "metadata": {
        "id": "6e2e3ad1"
      },
      "source": [
        "# Data pre-processing "
      ]
    },
    {
      "cell_type": "code",
      "execution_count": null,
      "id": "d8fec8f9",
      "metadata": {
        "id": "d8fec8f9"
      },
      "outputs": [],
      "source": [
        "df=df.dropna()"
      ]
    },
    {
      "cell_type": "code",
      "execution_count": null,
      "id": "fef51eb3",
      "metadata": {
        "id": "fef51eb3",
        "outputId": "9fad54a4-77c1-4119-b3a9-ea1ec6d592b9"
      },
      "outputs": [
        {
          "name": "stdout",
          "output_type": "stream",
          "text": [
            "      Id   MPG  Cylinders  Edispl  Horsepower  Weight  Accelerate  Year\n",
            "0      1  18.0          8   307.0       130.0    3504        12.0  1970\n",
            "1      2  15.0          8   350.0       165.0    3693        11.5  1970\n",
            "2      3  18.0          8   318.0       150.0    3436        11.0  1970\n",
            "3      4  16.0          8   304.0       150.0    3433        12.0  1970\n",
            "4      5  17.0          8   302.0       140.0    3449        10.5  1970\n",
            "..   ...   ...        ...     ...         ...     ...         ...   ...\n",
            "401  402  27.0          4   140.0        86.0    2790        15.6  1982\n",
            "402  403  44.0          4    97.0        52.0    2130        24.6  1982\n",
            "403  404  32.0          4   135.0        84.0    2295        11.6  1982\n",
            "404  405  28.0          4   120.0        79.0    2625        18.6  1982\n",
            "405  406  31.0          4   119.0        82.0    2720        19.4  1982\n",
            "\n",
            "[392 rows x 8 columns]\n"
          ]
        }
      ],
      "source": [
        "print(df)"
      ]
    },
    {
      "cell_type": "code",
      "execution_count": null,
      "id": "af788d8a",
      "metadata": {
        "id": "af788d8a",
        "outputId": "ee739240-6f30-4bb0-d33f-984644f441cf"
      },
      "outputs": [
        {
          "data": {
            "text/plain": [
              "Id              int64\n",
              "MPG           float64\n",
              "Cylinders       int64\n",
              "Edispl        float64\n",
              "Horsepower    float64\n",
              "Weight          int64\n",
              "Accelerate    float64\n",
              "Year            int64\n",
              "dtype: object"
            ]
          },
          "execution_count": 13,
          "metadata": {},
          "output_type": "execute_result"
        }
      ],
      "source": [
        "df.dtypes"
      ]
    },
    {
      "cell_type": "code",
      "execution_count": null,
      "id": "646e3615",
      "metadata": {
        "id": "646e3615",
        "outputId": "b7bc1d4e-031c-467a-843f-7568b907f697"
      },
      "outputs": [
        {
          "data": {
            "image/png": "[encoded data removed]",
            "text/plain": [
              "<Figure size 432x288 with 1 Axes>"
            ]
          },
          "metadata": {
            "needs_background": "light"
          },
          "output_type": "display_data"
        }
      ],
      "source": [
        "x= ('Horsepower')\n",
        "y = ('Year')\n",
        "plt.plot(xpoints, ypoints)\n",
        "plt.show()"
      ]
    },
    {
      "cell_type": "code",
      "execution_count": null,
      "id": "42611908",
      "metadata": {
        "id": "42611908",
        "outputId": "2e130a4c-4fe0-46e4-e513-b6eb23672f10"
      },
      "outputs": [
        {
          "data": {
            "image/png": "[encoded data removed]",
            "text/plain": [
              "<Figure size 432x288 with 1 Axes>"
            ]
          },
          "metadata": {
            "needs_background": "light"
          },
          "output_type": "display_data"
        }
      ],
      "source": [
        "x= ('Edispl')\n",
        "y = ('Year')\n",
        "plt.hist(x)\n",
        "plt.show()"
      ]
    },
    {
      "cell_type": "code",
      "execution_count": null,
      "id": "2208e43b",
      "metadata": {
        "id": "2208e43b",
        "outputId": "8de47bd7-32d6-4828-f798-f423faa8060c"
      },
      "outputs": [
        {
          "data": {
            "image/png": "[encoded data removed]",
            "text/plain": [
              "<Figure size 432x288 with 1 Axes>"
            ]
          },
          "metadata": {
            "needs_background": "light"
          },
          "output_type": "display_data"
        }
      ],
      "source": [
        "plt.plot(df)\n",
        "plt.show()"
      ]
    }
  ],
  "metadata": {
    "kernelspec": {
      "display_name": "Python 3",
      "language": "python",
      "name": "python3"
    },
    "language_info": {
      "codemirror_mode": {
        "name": "ipython",
        "version": 3
      },
      "file_extension": ".py",
      "mimetype": "text/x-python",
      "name": "python",
      "nbconvert_exporter": "python",
      "pygments_lexer": "ipython3",
      "version": "3.8.8"
    },
    "colab": {
      "name": "WRC1206_software.ipynb",
      "provenance": [],
      "collapsed_sections": []
    }
  },
  "nbformat": 4,
  "nbformat_minor": 5
}